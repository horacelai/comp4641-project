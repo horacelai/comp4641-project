{
 "cells": [
  {
   "cell_type": "code",
   "execution_count": 3,
   "metadata": {},
   "outputs": [],
   "source": [
    "import json\n",
    "import numpy as np\n",
    "import pandas as pd\n",
    "import jieba\n",
    "import progressbar"
   ]
  },
  {
   "cell_type": "code",
   "execution_count": 4,
   "metadata": {},
   "outputs": [
    {
     "name": "stderr",
     "output_type": "stream",
     "text": [
      "Building prefix dict from C:\\Users\\wormw\\Documents\\comp4641-project\\nlp\\merged_dict.txt ...\n",
      "Loading model from cache C:\\Users\\wormw\\AppData\\Local\\Temp\\jieba.ub49ffea3258cac9781f19edeac8a403e.cache\n",
      "Loading model cost 1.310 seconds.\n",
      "Prefix dict has been built successfully.\n"
     ]
    }
   ],
   "source": [
    "jieba.set_dictionary('merged_dict.txt')\n",
    "jieba.initialize()"
   ]
  },
  {
   "cell_type": "code",
   "execution_count": 5,
   "metadata": {},
   "outputs": [],
   "source": [
    "# with open('../scraper/posts.json') as f:\n",
    "#   posts = json.load(f)\n",
    "\n",
    "posts_data = pd.read_pickle(\"../lihkg_data/li_data_final.pkl\")"
   ]
  },
  {
   "cell_type": "code",
   "execution_count": 6,
   "metadata": {},
   "outputs": [],
   "source": [
    "KNOWN_TROLLS = ['41853','194398','76776','71393','30019','37596','63950','310982','282494','72457','326966','322121','322637','121095','169','213597','226126','245201','159448','149494','181778','324892','273582','118226','240250','316329','77788','219767','71341','12186','228352','75196','28435','25002','247732','322304','258598','133525','14941','27416','222907','48631','158008','289946','96230','40470','186800','30788','288523','254191','84585','85242','123870','89514','170281','103799','64699','49699','299923','71140','122676','61748','202464','288351','234658','277044','149978','6237','98232','69484','165028','328913','132380','146030','331780','266100','52773','275585','249366','41351','273474','39751','51615','326708','213952','1210','270563','241151','70493','335209','276916','232237','94819','78468','203248','100028','291185','95649','332154','83060','264328','244624','105890','5591','171664','23721','129619','326414','14965','51985','191271','253253','25771','153956','32583','72825','336250','58089','70734','124277','173333','155597','137604','276602','41818','162674','151378','295632','147880','314774','57035','88029','97104','216114','64295','28833','203010','264400','273157','238973','57405','28870','132128','199261','126609','65530','172349','173849','192248','261633','127675','34757','166655','228589','343059','144849']\n",
    "\n",
    "RIBBISH_POST = ['推', 'Push', 'push', '1', '此回覆已被刪除', 'pish', 'PUSH']\n",
    "\n",
    "lines = []"
   ]
  },
  {
   "cell_type": "code",
   "execution_count": null,
   "metadata": {},
   "outputs": [],
   "source": [
    "num_troll = 0\n",
    "num_normal = 0"
   ]
  },
  {
   "cell_type": "code",
   "execution_count": 7,
   "metadata": {},
   "outputs": [
    {
     "ename": "TypeError",
     "evalue": "'module' object is not callable",
     "output_type": "error",
     "traceback": [
      "\u001b[1;31m---------------------------------------------------------------------------\u001b[0m",
      "\u001b[1;31mTypeError\u001b[0m                                 Traceback (most recent call last)",
      "\u001b[1;32m<ipython-input-7-8e9ba6439516>\u001b[0m in \u001b[0;36m<module>\u001b[1;34m\u001b[0m\n\u001b[0;32m      8\u001b[0m \u001b[1;31m# np.random.shuffle(lines)\u001b[0m\u001b[1;33m\u001b[0m\u001b[1;33m\u001b[0m\u001b[1;33m\u001b[0m\u001b[0m\n\u001b[0;32m      9\u001b[0m \u001b[1;33m\u001b[0m\u001b[0m\n\u001b[1;32m---> 10\u001b[1;33m \u001b[1;32mfor\u001b[0m \u001b[0mindex\u001b[0m\u001b[1;33m,\u001b[0m \u001b[0mpost\u001b[0m \u001b[1;32min\u001b[0m \u001b[0mprogressbar\u001b[0m\u001b[1;33m.\u001b[0m\u001b[0mprogressbar\u001b[0m\u001b[1;33m(\u001b[0m\u001b[0mposts_data\u001b[0m\u001b[1;33m.\u001b[0m\u001b[0miterrows\u001b[0m\u001b[1;33m(\u001b[0m\u001b[1;33m)\u001b[0m\u001b[1;33m)\u001b[0m\u001b[1;33m:\u001b[0m\u001b[1;33m\u001b[0m\u001b[1;33m\u001b[0m\u001b[0m\n\u001b[0m\u001b[0;32m     11\u001b[0m     \u001b[1;32mif\u001b[0m \u001b[0mlen\u001b[0m\u001b[1;33m(\u001b[0m\u001b[0mpost\u001b[0m\u001b[1;33m[\u001b[0m\u001b[1;34m'msg'\u001b[0m\u001b[1;33m]\u001b[0m\u001b[1;33m.\u001b[0m\u001b[0mstrip\u001b[0m\u001b[1;33m(\u001b[0m\u001b[1;33m)\u001b[0m\u001b[1;33m)\u001b[0m \u001b[1;33m!=\u001b[0m \u001b[1;36m0\u001b[0m \u001b[1;32mand\u001b[0m \u001b[0mpost\u001b[0m\u001b[1;33m[\u001b[0m\u001b[1;34m'msg'\u001b[0m\u001b[1;33m]\u001b[0m \u001b[1;32mnot\u001b[0m \u001b[1;32min\u001b[0m \u001b[0mRIBBISH_POST\u001b[0m\u001b[1;33m:\u001b[0m\u001b[1;33m\u001b[0m\u001b[1;33m\u001b[0m\u001b[0m\n\u001b[0;32m     12\u001b[0m         \u001b[1;32mif\u001b[0m \u001b[0mpost\u001b[0m\u001b[1;33m[\u001b[0m\u001b[1;34m'user_id'\u001b[0m\u001b[1;33m]\u001b[0m \u001b[1;32min\u001b[0m \u001b[0mKNOWN_TROLLS\u001b[0m\u001b[1;33m:\u001b[0m\u001b[1;33m\u001b[0m\u001b[1;33m\u001b[0m\u001b[0m\n",
      "\u001b[1;31mTypeError\u001b[0m: 'module' object is not callable"
     ]
    }
   ],
   "source": [
    "# for post in posts:\n",
    "#     if len(post['msg'].strip()) != 0 and post['msg'] not in RIBBISH_POST:\n",
    "#         if post['user_id'] in KNOWN_TROLLS:\n",
    "#             lines.append('__label__TROLL ' + ' '.join(jieba.cut(post['msg'].replace('\\n',' ').replace(' ', '').strip(), cut_all=False)))\n",
    "#         else:\n",
    "#             lines.append('__label__NORMAL ' + ' '.join(jieba.cut(post['msg'].replace('\\n',' ').replace(' ', '').strip(), cut_all=False)))\n",
    "#\n",
    "# np.random.shuffle(lines)\n",
    "\n",
    "for index, post in progressbar.progressbar(posts_data.iterrows()):\n",
    "    if len(post['msg'].strip()) != 0 and post['msg'] not in RIBBISH_POST:\n",
    "        if post['user_id'] in KNOWN_TROLLS:\n",
    "            lines.append('__label__TROLL ' + ' '.join(jieba.cut(post['msg'].replace('\\n',' ').replace(' ', '').strip(), cut_all=False)))\n",
    "            num_troll += 1\n",
    "        else:\n",
    "            lines.append('__label__NORMAL ' + ' '.join(jieba.cut(post['msg'].replace('\\n',' ').replace(' ', '').strip(), cut_all=False)))\n",
    "            num_normal += 1\n",
    "\n",
    "np.random.shuffle(lines)"
   ]
  },
  {
   "cell_type": "code",
   "execution_count": null,
   "metadata": {},
   "outputs": [],
   "source": [
    "print(\"Total number of troll lines:\", num_troll)\n",
    "print(\"Total number of non-troll lines:\", num_normal)\n",
    "num_lines = num_troll + num_normal\n",
    "print(\"Total lines:\", num_lines)"
   ]
  },
  {
   "cell_type": "code",
   "execution_count": null,
   "metadata": {},
   "outputs": [],
   "source": [
    "test_train_ratio = 0.7  # Ratio for training set and testing set\n",
    "test = lines[:round(num_lines * test_train_ratio)]\n",
    "training = lines[round(num_lines * test_train_ratio):]\n",
    "output = ''"
   ]
  },
  {
   "cell_type": "code",
   "execution_count": 8,
   "metadata": {},
   "outputs": [
    {
     "ename": "SyntaxError",
     "evalue": "unexpected EOF while parsing (<ipython-input-8-72412952ca44>, line 14)",
     "output_type": "error",
     "traceback": [
      "\u001b[1;36m  File \u001b[1;32m\"<ipython-input-8-72412952ca44>\"\u001b[1;36m, line \u001b[1;32m14\u001b[0m\n\u001b[1;33m    while num_trolls_add > 0:\u001b[0m\n\u001b[1;37m                             ^\u001b[0m\n\u001b[1;31mSyntaxError\u001b[0m\u001b[1;31m:\u001b[0m unexpected EOF while parsing\n"
     ]
    }
   ],
   "source": [
    "resampling_ratio = 0.3  # Ratio for trolls and non-trolls\n",
    "over_ratio = 0.7  # Ratio of oversampling and undersampling; ie. add vs remove\n",
    "\n",
    "num_trolls_missing = round(num_lines * resampling_ratio) - num_troll\n",
    "if num_trolls_missing > 0:\n",
    "    num_trolls_add = round(num_trolls_missing * over_ratio)\n",
    "    num_normal_remove = num_trolls_missing - num_trolls_add\n",
    "    while num_normal_remove > 0:\n",
    "        rand_index = np.random.randint(0, len(training))\n",
    "        if training[rand_index][0:15] == '__label__NORMAL':\n",
    "            training.pop(rand_index)\n",
    "            num_normal_remove -= 1\n",
    "    new_num_training = len(training)\n",
    "    while num_trolls_add > 0:\n",
    "        rand_index = np.random.randint(0, new_num_training)\n",
    "        if training[rand_index][0:15] == '__label__TROLL ':\n",
    "            training.insert(len(training), training[rand_index])\n",
    "            num_trolls_add -= 1"
   ]
  },
  {
   "cell_type": "code",
   "execution_count": null,
   "metadata": {},
   "outputs": [],
   "source": [
    "for line in training:\n",
    "    output += line + '\\n'\n",
    "\n",
    "with open('train.txt', 'w') as the_file:\n",
    "    the_file.write(output)"
   ]
  },
  {
   "cell_type": "code",
   "execution_count": null,
   "metadata": {},
   "outputs": [],
   "source": [
    "output = ''\n",
    "\n",
    "for line in test:\n",
    "    output += line + '\\n'\n",
    "            \n",
    "with open('test.txt', 'w') as the_file:\n",
    "    the_file.write(output)"
   ]
  },
  {
   "cell_type": "code",
   "execution_count": null,
   "metadata": {},
   "outputs": [],
   "source": []
  }
 ],
 "metadata": {
  "kernelspec": {
   "display_name": "Python 3",
   "language": "python",
   "name": "python3"
  },
  "language_info": {
   "codemirror_mode": {
    "name": "ipython",
    "version": 3
   },
   "file_extension": ".py",
   "mimetype": "text/x-python",
   "name": "python",
   "nbconvert_exporter": "python",
   "pygments_lexer": "ipython3",
   "version": "3.7.6"
  }
 },
 "nbformat": 4,
 "nbformat_minor": 4
}
