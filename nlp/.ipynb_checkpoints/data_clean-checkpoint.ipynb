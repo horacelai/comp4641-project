{
 "cells": [
  {
   "cell_type": "code",
   "execution_count": 30,
   "metadata": {},
   "outputs": [
    {
     "name": "stderr",
     "output_type": "stream",
     "text": [
      "Building prefix dict from /Users/Horace/Dev_file/COMP4641/project/nlp/merged_dict.txt ...\n",
      "Loading model from cache /var/folders/7f/ltfv4r49637bm5cqrg7jb5br0000gn/T/jieba.u8c5f0d80d7468f84a0fd7f38aa2aefde.cache\n",
      "Loading model cost 0.863 seconds.\n",
      "Prefix dict has been built successfully.\n"
     ]
    }
   ],
   "source": [
    "import json\n",
    "import numpy as np\n",
    "import jieba\n",
    "\n",
    "jieba.set_dictionary('merged_dict.txt')\n",
    "jieba.initialize()\n",
    "\n",
    "with open('../scraper/posts.json') as f:\n",
    "  posts = json.load(f)\n",
    "\n",
    "KNOWN_TROLLS = ['41853','194398','76776','71393','30019','37596','63950','310982','282494','72457','326966','322121','322637','121095','169','213597','226126','245201','159448','149494','181778','324892','273582','118226','240250','316329','77788','219767','71341','12186','228352','75196','28435','25002','247732','322304','258598','133525','14941','27416','222907','48631','158008','289946','96230','40470','186800','30788','288523','254191','84585','85242','123870','89514','170281','103799','64699','49699','299923','71140','122676','61748','202464','288351','234658','277044','149978','6237','98232','69484','165028','328913','132380','146030','331780','266100','52773','275585','249366','41351','273474','39751','51615','326708','213952','1210','270563','241151','70493','335209','276916','232237','94819','78468','203248','100028','291185','95649','332154','83060','264328','244624','105890','5591','171664','23721','129619','326414','14965','51985','191271','253253','25771','153956','32583','72825','336250','58089','70734','124277','173333','155597','137604','276602','41818','162674','151378','295632','147880','314774','57035','88029','97104','216114','64295','28833','203010','264400','273157','238973','57405','28870','132128','199261','126609','65530','172349','173849','192248','261633','127675','34757','166655','228589','343059','144849']\n",
    "\n",
    "RIBBISH_POST = ['推', 'Push', 'push', '1', '此回覆已被刪除', 'pish', 'PUSH']\n",
    "\n",
    "lines = []\n",
    "\n",
    "for post in posts:\n",
    "    if len(post['msg'].strip()) != 0 and post['msg'] not in RIBBISH_POST:\n",
    "        if post['user_id'] in KNOWN_TROLLS:\n",
    "            lines.append('__label__TROLL ' + ' '.join(jieba.cut(post['msg'].replace('\\n',' ').replace(' ', '').strip(), cut_all=False)))\n",
    "        else:\n",
    "            lines.append('__label__NORMAL ' + ' '.join(jieba.cut(post['msg'].replace('\\n',' ').replace(' ', '').strip(), cut_all=False)))\n",
    "\n",
    "np.random.shuffle(lines)\n",
    "\n",
    "test = lines[:70]\n",
    "training = lines[70:]\n",
    "\n",
    "output = ''\n",
    "\n",
    "for line in training:\n",
    "    output += line + '\\n'\n",
    "            \n",
    "with open('train.txt', 'w') as the_file:\n",
    "    the_file.write(output)\n",
    "    \n",
    "output = ''\n",
    "\n",
    "for line in test:\n",
    "    output += line + '\\n'\n",
    "            \n",
    "with open('test.txt', 'w') as the_file:\n",
    "    the_file.write(output)"
   ]
  },
  {
   "cell_type": "code",
   "execution_count": null,
   "metadata": {},
   "outputs": [],
   "source": []
  }
 ],
 "metadata": {
  "kernelspec": {
   "display_name": "Python 3",
   "language": "python",
   "name": "python3"
  },
  "language_info": {
   "codemirror_mode": {
    "name": "ipython",
    "version": 3
   },
   "file_extension": ".py",
   "mimetype": "text/x-python",
   "name": "python",
   "nbconvert_exporter": "python",
   "pygments_lexer": "ipython3",
   "version": "3.7.4"
  }
 },
 "nbformat": 4,
 "nbformat_minor": 4
}
